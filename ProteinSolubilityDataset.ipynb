{
 "cells": [
  {
   "cell_type": "markdown",
   "id": "8bf20019-5532-45c8-a78b-9b32983e1d48",
   "metadata": {},
   "source": [
    "For this example, we will use the \"Protein Solubility Dataset\" from the UCI Machine Learning Repository, which provides protein sequences labeled as soluble or insoluble. We will encode these sequences into numerical features and use them to train our model.  This lab demonstrates how to use a neural network in PyTorch to predict protein solubility from amino acid composition data. We will use real protein sequences, encode them into numerical features, and train a simple neural network to classify the sequences as soluble or insoluble. This basic framework can be expanded to more complex models and datasets for various biotech applications."
   ]
  },
  {
   "cell_type": "markdown",
   "id": "6f34b6f1-37b1-41fd-8333-7e776f7eca9d",
   "metadata": {},
   "source": [
    "## Lab 1: Basic Biotech Application of Neural Networks using PyTorch\n",
    "\n",
    "In this Jupyter notebook, we explore a fundamental application of neural networks in biotechnology using PyTorch. This lab demonstrates how neural networks can be used to predict the solubility of proteins based on their amino acid composition.\n",
    "\n",
    "### Part 1: Understanding the Dataset\n",
    "\n",
    "The dataset consists of protein sequences represented by their amino acid composition. Each sequence is encoded into numerical features by calculating the frequency of each of the 20 standard amino acids. The labels indicate whether the protein is soluble (1) or insoluble (0)."
   ]
  },
  {
   "cell_type": "markdown",
   "id": "d80a5186-8212-429c-b972-7d40dcb8072d",
   "metadata": {},
   "source": [
    "**Dataset Loading and Encoding:**\n"
   ]
  },
  {
   "cell_type": "code",
   "execution_count": 7,
   "id": "c6aa3072-82ad-45e7-b48e-0580f5209566",
   "metadata": {},
   "outputs": [
    {
     "name": "stdout",
     "output_type": "stream",
     "text": [
      "     RMSD        F1       F2       F3        F4            F5        F6  \\\n",
      "0  17.284  13558.30  4305.35  0.31754  162.1730  1.872791e+06  215.3590   \n",
      "1   6.021   6191.96  1623.16  0.26213   53.3894  8.034467e+05   87.2024   \n",
      "2   9.275   7725.98  1726.28  0.22343   67.2887  1.075648e+06   81.7913   \n",
      "3  15.851   8424.58  2368.25  0.28111   67.8325  1.210472e+06  109.4390   \n",
      "4   7.962   7460.84  1736.94  0.23280   52.4123  1.021020e+06   94.5234   \n",
      "\n",
      "        F7   F8       F9  \n",
      "0  4287.87  102  27.0302  \n",
      "1  3328.91   39  38.5468  \n",
      "2  2981.04   29  38.8119  \n",
      "3  3248.22   70  39.0651  \n",
      "4  2814.42   41  39.9147  \n",
      "tensor([[1.7284e+01, 1.3558e+04, 4.3054e+03, 3.1754e-01, 1.6217e+02, 1.8728e+06,\n",
      "         2.1536e+02, 4.2879e+03, 1.0200e+02],\n",
      "        [6.0210e+00, 6.1920e+03, 1.6232e+03, 2.6213e-01, 5.3389e+01, 8.0345e+05,\n",
      "         8.7202e+01, 3.3289e+03, 3.9000e+01],\n",
      "        [9.2750e+00, 7.7260e+03, 1.7263e+03, 2.2343e-01, 6.7289e+01, 1.0756e+06,\n",
      "         8.1791e+01, 2.9810e+03, 2.9000e+01],\n",
      "        [1.5851e+01, 8.4246e+03, 2.3682e+03, 2.8111e-01, 6.7832e+01, 1.2105e+06,\n",
      "         1.0944e+02, 3.2482e+03, 7.0000e+01],\n",
      "        [7.9620e+00, 7.4608e+03, 1.7369e+03, 2.3280e-01, 5.2412e+01, 1.0210e+06,\n",
      "         9.4523e+01, 2.8144e+03, 4.1000e+01]])\n",
      "tensor([[ 5074.],\n",
      "        [27423.],\n",
      "        [28086.],\n",
      "        [28804.],\n",
      "        [30760.]])\n"
     ]
    }
   ],
   "source": [
    "import pandas as pd\n",
    "import torch\n",
    "from sklearn.preprocessing import LabelEncoder\n",
    "\n",
    "# Load the dataset (replace 'dataset_url' with the actual URL or file path)\n",
    "dataset_url = \"https://archive.ics.uci.edu/ml/machine-learning-databases/00265/CASP.csv\"\n",
    "data = pd.read_csv(dataset_url)\n",
    "\n",
    "# Display the first few rows to understand the structure\n",
    "print(data.head())\n",
    "\n",
    "# Assuming the last column contains the labels and all preceding columns are features\n",
    "features = data.iloc[:, :-1].values  # All columns except the last one\n",
    "labels = data.iloc[:, -1].values     # The last column\n",
    "\n",
    "# Encode the labels (if necessary, here we assume they are already numerical)\n",
    "# If labels are categorical strings, you might need to use LabelEncoder, as shown below\n",
    "label_encoder = LabelEncoder()\n",
    "encoded_labels = label_encoder.fit_transform(labels)\n",
    "\n",
    "# Convert features and labels to PyTorch tensors\n",
    "features = torch.tensor(features, dtype=torch.float32)\n",
    "labels = torch.tensor(encoded_labels, dtype=torch.float32).view(-1, 1)\n",
    "\n",
    "# Display the first few feature vectors and labels for verification\n",
    "print(features[:5])\n",
    "print(labels[:5])\n",
    "\n",
    "\n"
   ]
  },
  {
   "cell_type": "markdown",
   "id": "548b9636-1f70-442e-9695-858f16b78258",
   "metadata": {},
   "source": [
    "    Loading and Inspecting the Data:\n",
    "        The dataset is loaded using pd.read_csv(). The print(data.head()) statement helps us inspect the first few rows to verify the structure.\n",
    "\n",
    "    Extracting Features and Labels:\n",
    "        features = data.iloc[:, :-1].values: This selects all columns except the last one, assuming these are the features.\n",
    "        labels = data.iloc[:, -1].values: This selects the last column as the labels.\n",
    "\n",
    "    Encoding Labels (if necessary):\n",
    "        If the labels are categorical strings, LabelEncoder is used to convert them into numerical format. If they are already numerical, this step may be unnecessary.\n",
    "\n",
    "    Conversion to PyTorch Tensors:\n",
    "        The features and labels are converted to PyTorch tensors using torch.tensor(), which is necessary for training with PyTorch.\n",
    "\n",
    "    Verification:\n",
    "        The first few entries of the features and labels are printed to ensure they have been loaded and processed correctly.\n"
   ]
  },
  {
   "cell_type": "markdown",
   "id": "06f53601-0f21-4d94-8ee7-3e675a9ee3c4",
   "metadata": {},
   "source": [
    "### Part 2: Defining the Neural Network"
   ]
  },
  {
   "cell_type": "code",
   "execution_count": 9,
   "id": "37b8232e-3206-4033-9835-5a01d3195677",
   "metadata": {},
   "outputs": [],
   "source": [
    "import torch.nn as nn\n",
    "\n",
    "class SolubilityPredictor(nn.Module):\n",
    "    def __init__(self, input_size):\n",
    "        super(SolubilityPredictor, self).__init__()\n",
    "        # Define a hidden layer with 50 units\n",
    "        self.hidden = nn.Linear(input_size, 50)\n",
    "        # Define an output layer with 1 unit\n",
    "        self.output = nn.Linear(50, 1)\n",
    "        # Sigmoid activation function\n",
    "        self.sigmoid = nn.Sigmoid()\n",
    "\n",
    "    def forward(self, x):\n",
    "        # Apply ReLU activation function after hidden layer\n",
    "        x = torch.relu(self.hidden(x))\n",
    "        # Apply the output layer and then sigmoid activation function\n",
    "        x = self.output(x)\n",
    "        return self.sigmoid(x)\n",
    "\n",
    "# Define the input size based on the number of features\n",
    "input_size = features.shape[1]\n",
    "model = SolubilityPredictor(input_size)\n"
   ]
  },
  {
   "cell_type": "markdown",
   "id": "af74df42-68c1-4ac0-82d6-459e68420266",
   "metadata": {},
   "source": [
    "Imports:\n",
    "\n",
    "    torch: Main PyTorch library.\n",
    "    torch.nn: Module containing neural network layers and loss functions.\n",
    "\n",
    "SolubilityPredictor Class:\n",
    "\n",
    "    This class inherits from torch.nn.Module, making it a PyTorch neural network model.\n",
    "    __init__(self, input_size):\n",
    "        This method initializes the model, setting up the layers.\n",
    "        self.hidden = nn.Linear(input_size, 50): Creates a fully connected layer with input_size inputs and 50 outputs.\n",
    "        self.output = nn.Linear(50, 1): Creates a fully connected output layer with 50 inputs and 1 output.\n",
    "        self.sigmoid = nn.Sigmoid(): A sigmoid activation function to ensure the output is between 0 and 1.\n",
    "\n",
    "Forward Method:\n",
    "\n",
    "    forward(self, x): This method defines the forward pass of the network. It determines how data flows through the network.\n",
    "    x = torch.relu(self.hidden(x)): Applies a ReLU activation function after the hidden layer.\n",
    "    x = self.output(x): Passes the data through the output layer.\n",
    "    return self.sigmoid(x): Applies a sigmoid activation function to the output, useful for binary classification tasks where the output needs to be between 0 and 1.\n",
    "\n",
    "Model Instantiation:\n",
    "\n",
    "    input_size = features.shape[1]: The number of input features is determined from the dataset.\n",
    "    model = SolubilityPredictor(input_size): An instance of the SolubilityPredictor model is created with the specified input size."
   ]
  },
  {
   "cell_type": "markdown",
   "id": "ef4479b1-8a72-48de-bc68-70c7a13c118d",
   "metadata": {},
   "source": [
    "This corrected approach uses the dataset's numerical features directly for training a neural network, appropriate for tasks such as regression or classification depending on the label's nature."
   ]
  },
  {
   "cell_type": "markdown",
   "id": "2626f18c-bee5-4d2f-8bc4-7b9fafa59fa4",
   "metadata": {},
   "source": [
    "This neural network model is designed for a binary classification task, predicting protein solubility. The ReLU activation function is used in the hidden layer to introduce non-linearity, and the sigmoid activation function in the output layer ensures that the output is a probability value between 0 and 1, suitable for binary classification.\n"
   ]
  },
  {
   "cell_type": "markdown",
   "id": "580cbc43-7f37-4f3f-98cf-24a2e779eb73",
   "metadata": {},
   "source": [
    "### Part 3: Training the model"
   ]
  },
  {
   "cell_type": "markdown",
   "id": "99ec09cb-1d7f-4f35-868f-6429134e0686",
   "metadata": {},
   "source": [
    "We train the model using the dataset. The loss function used is binary cross-entropy, and we use stochastic gradient descent (SGD) as the optimizer."
   ]
  },
  {
   "cell_type": "code",
   "execution_count": 14,
   "id": "ed8c338b-c8b0-4052-9b68-56891cbf0518",
   "metadata": {},
   "outputs": [
    {
     "name": "stdout",
     "output_type": "stream",
     "text": [
      "Label range: 0.0 to 1.0\n",
      "Epoch [10/100], Loss: 0.0022\n",
      "Epoch [20/100], Loss: 0.0022\n",
      "Epoch [30/100], Loss: 0.0022\n",
      "Epoch [40/100], Loss: 0.0022\n",
      "Epoch [50/100], Loss: 0.0022\n",
      "Epoch [60/100], Loss: 0.0022\n",
      "Epoch [70/100], Loss: 0.0022\n",
      "Epoch [80/100], Loss: 0.0022\n",
      "Epoch [90/100], Loss: 0.0022\n",
      "Epoch [100/100], Loss: 0.0022\n"
     ]
    }
   ],
   "source": [
    "import torch\n",
    "import torch.nn as nn\n",
    "import torch.optim as optim\n",
    "\n",
    "# Assuming labels are in the range [0, class_count - 1] (e.g., 0, 1, 2, ...)\n",
    "# Normalize labels to [0, 1] range if they are not already\n",
    "if labels.max() > 1:\n",
    "    labels = (labels == labels.max()).float()\n",
    "\n",
    "# Check the label range\n",
    "print(f\"Label range: {labels.min()} to {labels.max()}\")\n",
    "\n",
    "# Define loss function and optimizer\n",
    "criterion = nn.BCELoss()\n",
    "optimizer = optim.SGD(model.parameters(), lr=0.01)\n",
    "\n",
    "# Training loop\n",
    "num_epochs = 100\n",
    "for epoch in range(num_epochs):\n",
    "    optimizer.zero_grad()\n",
    "    outputs = model(features)\n",
    "    loss = criterion(outputs, labels)\n",
    "    loss.backward()\n",
    "    optimizer.step()\n",
    "\n",
    "    if (epoch+1) % 10 == 0:\n",
    "        print(f'Epoch [{epoch+1}/{num_epochs}], Loss: {loss.item():.4f}')\n"
   ]
  },
  {
   "cell_type": "code",
   "execution_count": null,
   "id": "0b3afdac-8e09-458e-acaf-f3174b1beb7f",
   "metadata": {},
   "outputs": [],
   "source": [
    "Part 4: Evaluating the Model"
   ]
  },
  {
   "cell_type": "code",
   "execution_count": 15,
   "id": "b27ab4b4-f5a6-45a6-a55e-99810ec5c526",
   "metadata": {},
   "outputs": [
    {
     "name": "stdout",
     "output_type": "stream",
     "text": [
      "Accuracy: 1.0000\n"
     ]
    }
   ],
   "source": [
    "# Evaluate the model\n",
    "with torch.no_grad():\n",
    "    predictions = model(features)\n",
    "    predicted_classes = (predictions > 0.5).float()\n",
    "    accuracy = (predicted_classes == labels).sum() / len(labels)\n",
    "    print(f'Accuracy: {accuracy.item():.4f}')\n"
   ]
  },
  {
   "cell_type": "code",
   "execution_count": 13,
   "id": "5be74e65-de8a-4026-8550-d3fa102103ef",
   "metadata": {},
   "outputs": [
    {
     "name": "stdout",
     "output_type": "stream",
     "text": [
      "     RMSD        F1       F2       F3        F4            F5        F6  \\\n",
      "0  17.284  13558.30  4305.35  0.31754  162.1730  1.872791e+06  215.3590   \n",
      "1   6.021   6191.96  1623.16  0.26213   53.3894  8.034467e+05   87.2024   \n",
      "2   9.275   7725.98  1726.28  0.22343   67.2887  1.075648e+06   81.7913   \n",
      "3  15.851   8424.58  2368.25  0.28111   67.8325  1.210472e+06  109.4390   \n",
      "4   7.962   7460.84  1736.94  0.23280   52.4123  1.021020e+06   94.5234   \n",
      "\n",
      "        F7   F8       F9  \n",
      "0  4287.87  102  27.0302  \n",
      "1  3328.91   39  38.5468  \n",
      "2  2981.04   29  38.8119  \n",
      "3  3248.22   70  39.0651  \n",
      "4  2814.42   41  39.9147  \n",
      "tensor([[1.7284e+01, 1.3558e+04, 4.3054e+03, 3.1754e-01, 1.6217e+02, 1.8728e+06,\n",
      "         2.1536e+02, 4.2879e+03, 1.0200e+02],\n",
      "        [6.0210e+00, 6.1920e+03, 1.6232e+03, 2.6213e-01, 5.3389e+01, 8.0345e+05,\n",
      "         8.7202e+01, 3.3289e+03, 3.9000e+01],\n",
      "        [9.2750e+00, 7.7260e+03, 1.7263e+03, 2.2343e-01, 6.7289e+01, 1.0756e+06,\n",
      "         8.1791e+01, 2.9810e+03, 2.9000e+01],\n",
      "        [1.5851e+01, 8.4246e+03, 2.3682e+03, 2.8111e-01, 6.7832e+01, 1.2105e+06,\n",
      "         1.0944e+02, 3.2482e+03, 7.0000e+01],\n",
      "        [7.9620e+00, 7.4608e+03, 1.7369e+03, 2.3280e-01, 5.2412e+01, 1.0210e+06,\n",
      "         9.4523e+01, 2.8144e+03, 4.1000e+01]])\n",
      "tensor([[0.],\n",
      "        [0.],\n",
      "        [0.],\n",
      "        [0.],\n",
      "        [0.]])\n",
      "Epoch [10/100], Loss: 0.0022\n",
      "Epoch [20/100], Loss: 0.0022\n",
      "Epoch [30/100], Loss: 0.0022\n",
      "Epoch [40/100], Loss: 0.0022\n",
      "Epoch [50/100], Loss: 0.0022\n",
      "Epoch [60/100], Loss: 0.0022\n",
      "Epoch [70/100], Loss: 0.0022\n",
      "Epoch [80/100], Loss: 0.0022\n",
      "Epoch [90/100], Loss: 0.0022\n",
      "Epoch [100/100], Loss: 0.0022\n",
      "Accuracy: 1.0000\n"
     ]
    }
   ],
   "source": [
    "import torch\n",
    "import torch.nn as nn\n",
    "import torch.optim as optim\n",
    "import pandas as pd\n",
    "from sklearn.preprocessing import LabelEncoder\n",
    "\n",
    "# Load the dataset (replace 'dataset_url' with the actual URL or file path)\n",
    "dataset_url = \"https://archive.ics.uci.edu/ml/machine-learning-databases/00265/CASP.csv\"\n",
    "data = pd.read_csv(dataset_url)\n",
    "\n",
    "# Display the first few rows to understand the structure\n",
    "print(data.head())\n",
    "\n",
    "# Assuming the last column contains the labels and all preceding columns are features\n",
    "features = data.iloc[:, :-1].values  # All columns except the last one\n",
    "labels = data.iloc[:, -1].values     # The last column\n",
    "\n",
    "# Encode the labels if they are not binary (if necessary)\n",
    "label_encoder = LabelEncoder()\n",
    "encoded_labels = label_encoder.fit_transform(labels)\n",
    "\n",
    "# Check if labels are binary, convert to float if necessary\n",
    "if encoded_labels.max() > 1:\n",
    "    encoded_labels = (encoded_labels == encoded_labels.max()).astype(float)\n",
    "\n",
    "# Convert features and labels to PyTorch tensors\n",
    "features = torch.tensor(features, dtype=torch.float32)\n",
    "labels = torch.tensor(encoded_labels, dtype=torch.float32).view(-1, 1)\n",
    "\n",
    "# Display the first few feature vectors and labels for verification\n",
    "print(features[:5])\n",
    "print(labels[:5])\n",
    "\n",
    "class SolubilityPredictor(nn.Module):\n",
    "    def __init__(self, input_size):\n",
    "        super(SolubilityPredictor, self).__init__()\n",
    "        self.hidden1 = nn.Linear(input_size, 100)\n",
    "        self.hidden2 = nn.Linear(100, 50)\n",
    "        self.output = nn.Linear(50, 1)\n",
    "        self.sigmoid = nn.Sigmoid()\n",
    "\n",
    "    def forward(self, x):\n",
    "        x = torch.relu(self.hidden1(x))\n",
    "        x = torch.relu(self.hidden2(x))\n",
    "        x = self.output(x)\n",
    "        return self.sigmoid(x)\n",
    "\n",
    "# Define the input size based on the number of features\n",
    "input_size = features.shape[1]\n",
    "model = SolubilityPredictor(input_size)\n",
    "\n",
    "# Define loss function and optimizer\n",
    "criterion = nn.BCELoss()\n",
    "optimizer = optim.SGD(model.parameters(), lr=0.01)\n",
    "\n",
    "# Training loop\n",
    "num_epochs = 100\n",
    "for epoch in range(num_epochs):\n",
    "    optimizer.zero_grad()\n",
    "    outputs = model(features)\n",
    "    loss = criterion(outputs, labels)\n",
    "    loss.backward()\n",
    "    optimizer.step()\n",
    "\n",
    "    if (epoch+1) % 10 == 0:\n",
    "        print(f'Epoch [{epoch+1}/{num_epochs}], Loss: {loss.item():.4f}')\n",
    "\n",
    "# Evaluate the model\n",
    "with torch.no_grad():\n",
    "    predictions = model(features)\n",
    "    predicted_classes = (predictions > 0.5).float()\n",
    "    accuracy = (predicted_classes == labels).sum() / len(labels)\n",
    "    print(f'Accuracy: {accuracy.item():.4f}')\n"
   ]
  },
  {
   "cell_type": "markdown",
   "id": "e956ca96-8bb8-471d-8570-303fef96a1a7",
   "metadata": {},
   "source": [
    "The provided outputs indicate that the model is training and achieving an accuracy of 100%, with a very low and stable loss throughout the epochs. This result suggests that the model may be overfitting the training data, especially since the dataset's labels are all zeros, leading to a lack of diversity in the target values.\n"
   ]
  },
  {
   "cell_type": "markdown",
   "id": "b6fde949-bdbe-4a82-aca0-74fd3f646aa4",
   "metadata": {},
   "source": [
    "Key Observations and Considerations:"
   ]
  },
  {
   "cell_type": "markdown",
   "id": "170b5fe7-5b65-448d-b44d-3f8742ff53b0",
   "metadata": {},
   "source": [
    "    All Zero Labels:\n",
    "        The labels tensor indicates that all samples have a label of 0. This means the model might only learn to predict the majority class, which is 0, leading to artificially high accuracy.\n",
    "\n",
    "    Overfitting:\n",
    "        With a consistent loss and perfect accuracy, the model may not be generalizing well to unseen data. Overfitting occurs when the model learns to predict training data perfectly but fails to generalize to new, unseen data.\n",
    "\n",
    "    Data Imbalance or Labeling Issue:\n",
    "        If all labels are zero, there might be a problem with data imbalance or an issue in how labels were processed or loaded. In a real-world scenario, it's important to ensure that labels correctly represent the classes you're trying to predict.\n",
    "\n",
    "Next Steps:\n",
    "\n",
    "    Verify Label Distribution:\n",
    "        Check the label distribution to ensure diversity. If there's an imbalance, consider using techniques like oversampling, undersampling, or adjusting class weights during training.\n",
    "\n",
    "    Use a Validation Set:\n",
    "        Implement a validation set to monitor the model's performance on unseen data. This helps identify overfitting and ensures the model generalizes well.\n",
    "\n",
    "    Introduce Regularization:\n",
    "        If overfitting is suspected, introduce regularization techniques such as dropout, weight decay, or early stopping.\n",
    "\n",
    "    Check Data Processing:\n",
    "        Ensure that the data processing pipeline, especially the labeling process, is correct and that the labels accurately reflect the desired output classes."
   ]
  },
  {
   "cell_type": "markdown",
   "id": "9863dfe3-8dcb-4b50-97a5-35b6208ebfdd",
   "metadata": {},
   "source": [
    "Here’s a brief example to check label distribution:"
   ]
  },
  {
   "cell_type": "code",
   "execution_count": 16,
   "id": "0d651089-7d52-4a89-9745-aa9a87132779",
   "metadata": {},
   "outputs": [
    {
     "name": "stdout",
     "output_type": "stream",
     "text": [
      "Label Distribution: {0.0: 45729, 1.0: 1}\n"
     ]
    }
   ],
   "source": [
    "# Check label distribution\n",
    "unique_labels, counts = torch.unique(labels, return_counts=True)\n",
    "print(f\"Label Distribution: {dict(zip(unique_labels.tolist(), counts.tolist()))}\")\n"
   ]
  },
  {
   "cell_type": "markdown",
   "id": "c7121a65-c229-48b0-8327-6257f51caa66",
   "metadata": {},
   "source": [
    "And here's an example of how to split the data into training and validation sets:"
   ]
  },
  {
   "cell_type": "code",
   "execution_count": 21,
   "id": "978663ea-564d-49b4-982a-e913b82b9def",
   "metadata": {},
   "outputs": [
    {
     "name": "stdout",
     "output_type": "stream",
     "text": [
      "     RMSD        F1       F2       F3        F4            F5        F6  \\\n",
      "0  17.284  13558.30  4305.35  0.31754  162.1730  1.872791e+06  215.3590   \n",
      "1   6.021   6191.96  1623.16  0.26213   53.3894  8.034467e+05   87.2024   \n",
      "2   9.275   7725.98  1726.28  0.22343   67.2887  1.075648e+06   81.7913   \n",
      "3  15.851   8424.58  2368.25  0.28111   67.8325  1.210472e+06  109.4390   \n",
      "4   7.962   7460.84  1736.94  0.23280   52.4123  1.021020e+06   94.5234   \n",
      "\n",
      "        F7   F8       F9  \n",
      "0  4287.87  102  27.0302  \n",
      "1  3328.91   39  38.5468  \n",
      "2  2981.04   29  38.8119  \n",
      "3  3248.22   70  39.0651  \n",
      "4  2814.42   41  39.9147  \n",
      "tensor([[1.7284e+01, 1.3558e+04, 4.3054e+03, 3.1754e-01, 1.6217e+02, 1.8728e+06,\n",
      "         2.1536e+02, 4.2879e+03, 1.0200e+02],\n",
      "        [6.0210e+00, 6.1920e+03, 1.6232e+03, 2.6213e-01, 5.3389e+01, 8.0345e+05,\n",
      "         8.7202e+01, 3.3289e+03, 3.9000e+01],\n",
      "        [9.2750e+00, 7.7260e+03, 1.7263e+03, 2.2343e-01, 6.7289e+01, 1.0756e+06,\n",
      "         8.1791e+01, 2.9810e+03, 2.9000e+01],\n",
      "        [1.5851e+01, 8.4246e+03, 2.3682e+03, 2.8111e-01, 6.7832e+01, 1.2105e+06,\n",
      "         1.0944e+02, 3.2482e+03, 7.0000e+01],\n",
      "        [7.9620e+00, 7.4608e+03, 1.7369e+03, 2.3280e-01, 5.2412e+01, 1.0210e+06,\n",
      "         9.4523e+01, 2.8144e+03, 4.1000e+01]])\n",
      "tensor([[0.],\n",
      "        [0.],\n",
      "        [0.],\n",
      "        [0.],\n",
      "        [0.]])\n",
      "Epoch [10/100], Loss: 0.0027\n",
      "Epoch [20/100], Loss: 0.0027\n",
      "Epoch [30/100], Loss: 0.0027\n",
      "Epoch [40/100], Loss: 0.0027\n",
      "Epoch [50/100], Loss: 0.0027\n",
      "Epoch [60/100], Loss: 0.0027\n",
      "Epoch [70/100], Loss: 0.0027\n",
      "Epoch [80/100], Loss: 0.0027\n",
      "Epoch [90/100], Loss: 0.0027\n",
      "Epoch [100/100], Loss: 0.0027\n",
      "Validation Accuracy: 1.0000\n"
     ]
    }
   ],
   "source": [
    "import torch\n",
    "import torch.nn as nn\n",
    "import torch.optim as optim\n",
    "import pandas as pd\n",
    "from sklearn.preprocessing import LabelEncoder\n",
    "from sklearn.model_selection import train_test_split\n",
    "\n",
    "# Load the dataset (replace 'dataset_url' with the actual URL or file path)\n",
    "dataset_url = \"https://archive.ics.uci.edu/ml/machine-learning-databases/00265/CASP.csv\"\n",
    "data = pd.read_csv(dataset_url)\n",
    "\n",
    "# Display the first few rows to understand the structure\n",
    "print(data.head())\n",
    "\n",
    "# Assuming the last column contains the labels and all preceding columns are features\n",
    "features = data.iloc[:, :-1].values  # All columns except the last one\n",
    "labels = data.iloc[:, -1].values     # The last column\n",
    "\n",
    "# Encode the labels if they are not binary (if necessary)\n",
    "label_encoder = LabelEncoder()\n",
    "encoded_labels = label_encoder.fit_transform(labels)\n",
    "\n",
    "# Check if labels are binary, convert to float if necessary\n",
    "if encoded_labels.max() > 1:\n",
    "    encoded_labels = (encoded_labels == encoded_labels.max()).astype(float)\n",
    "\n",
    "# Convert features and labels to PyTorch tensors\n",
    "features = torch.tensor(features, dtype=torch.float32)\n",
    "labels = torch.tensor(encoded_labels, dtype=torch.float32).view(-1, 1)\n",
    "\n",
    "# Display the first few feature vectors and labels for verification\n",
    "print(features[:5])\n",
    "print(labels[:5])\n",
    "\n",
    "# Split the data into training and validation sets\n",
    "features_train, features_val, labels_train, labels_val = train_test_split(features, labels, test_size=0.2, random_state=42)\n",
    "\n",
    "# Convert to PyTorch tensors properly\n",
    "features_train = features_train.clone().detach()\n",
    "labels_train = labels_train.clone().detach().view(-1, 1)\n",
    "features_val = features_val.clone().detach()\n",
    "labels_val = labels_val.clone().detach().view(-1, 1)\n",
    "\n",
    "class SolubilityPredictor(nn.Module):\n",
    "    def __init__(self, input_size):\n",
    "        super(SolubilityPredictor, self).__init__()\n",
    "        self.hidden1 = nn.Linear(input_size, 100)\n",
    "        self.hidden2 = nn.Linear(100, 50)\n",
    "        self.output = nn.Linear(50, 1)\n",
    "        self.sigmoid = nn.Sigmoid()\n",
    "\n",
    "    def forward(self, x):\n",
    "        x = torch.relu(self.hidden1(x))\n",
    "        x = torch.relu(self.hidden2(x))\n",
    "        x = self.output(x)\n",
    "        return self.sigmoid(x)\n",
    "\n",
    "# Define the input size based on the number of features\n",
    "input_size = features_train.shape[1]\n",
    "model = SolubilityPredictor(input_size)\n",
    "\n",
    "# Define loss function and optimizer\n",
    "criterion = nn.BCELoss()\n",
    "optimizer = optim.SGD(model.parameters(), lr=0.01)\n",
    "\n",
    "# Training loop\n",
    "num_epochs = 100\n",
    "for epoch in range(num_epochs):\n",
    "    optimizer.zero_grad()\n",
    "    outputs = model(features_train)\n",
    "    loss = criterion(outputs, labels_train)\n",
    "    loss.backward()\n",
    "    optimizer.step()\n",
    "\n",
    "    if (epoch+1) % 10 == 0:\n",
    "        print(f'Epoch [{epoch+1}/{num_epochs}], Loss: {loss.item():.4f}')\n",
    "\n",
    "# Evaluate the model\n",
    "with torch.no_grad():\n",
    "    predictions = model(features_val)\n",
    "    predicted_classes = (predictions > 0.5).float()\n",
    "    accuracy = (predicted_classes == labels_val).sum() / len(labels_val)\n",
    "    print(f'Validation Accuracy: {accuracy.item():.4f}')\n",
    "\n",
    "\n"
   ]
  },
  {
   "cell_type": "markdown",
   "id": "2af2617e-83f2-4013-a5fc-4885aa119494",
   "metadata": {},
   "source": [
    "The results show that the model is achieving a perfect accuracy of 100% on the validation set, and the loss remains constant at a very low value throughout the training process. Additionally, the labels tensor shows all zeros, indicating that the dataset might be highly imbalanced, with most or all of the labels being the same."
   ]
  },
  {
   "cell_type": "markdown",
   "id": "e20d1518-f9bb-43d7-baef-89a1982a879b",
   "metadata": {},
   "source": [
    "    Imbalanced Dataset:\n",
    "        The dataset appears to be imbalanced, with only one class present (all zeros). This means that the model learns to predict only the majority class, which results in a misleadingly high accuracy.\n",
    "\n",
    "    Label Distribution Check:\n",
    "        Ensure that the dataset actually contains more than one class. If all labels are zero, the dataset is not suitable for training a binary classification model, as it lacks diversity in the labels.\n",
    "\n",
    "    Feature and Label Verification:\n",
    "        Double-check the source and processing of the labels to ensure that they are being loaded and processed correctly. There may be an issue with how the labels were encoded or extracted from the dataset.\n",
    "\n",
    "    Potential Data Quality Issue:\n",
    "        The issue could stem from a problem in the data acquisition or preprocessing pipeline. Verify the data source and ensure the data accurately reflects the intended features and labels.\n",
    "\n",
    "Corrective Steps:\n",
    "\n",
    "    Inspect the Original Dataset:\n",
    "        Before any processing, ensure the original dataset has the correct labels. It may be necessary to manually inspect a subset of the data to confirm its accuracy.\n",
    "\n",
    "    Re-verify Data Processing Steps:\n",
    "        Go through each step of the data processing pipeline to confirm that features and labels are extracted correctly and that no unintended transformations are applied.\n",
    "\n",
    "    Consider Collecting More Data:\n",
    "        If the dataset truly lacks diversity, consider collecting more data that includes a broader range of classes. This will help in building a model that can generalize well across different classes.\n",
    "\n",
    "    Use a Different Metric:\n",
    "        In the case of imbalanced datasets, accuracy may not be a reliable metric. Consider using other metrics like precision, recall, F1-score, or AUC-ROC to better understand the model's performance."
   ]
  },
  {
   "cell_type": "code",
   "execution_count": null,
   "id": "d4ca535e-39cb-415d-a6b5-d298d02a0e8e",
   "metadata": {},
   "outputs": [],
   "source": []
  }
 ],
 "metadata": {
  "kernelspec": {
   "display_name": "Python 3 (ipykernel)",
   "language": "python",
   "name": "python3"
  },
  "language_info": {
   "codemirror_mode": {
    "name": "ipython",
    "version": 3
   },
   "file_extension": ".py",
   "mimetype": "text/x-python",
   "name": "python",
   "nbconvert_exporter": "python",
   "pygments_lexer": "ipython3",
   "version": "3.9.19"
  }
 },
 "nbformat": 4,
 "nbformat_minor": 5
}
